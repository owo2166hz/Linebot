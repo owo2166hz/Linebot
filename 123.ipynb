{
 "cells": [
  {
   "cell_type": "code",
   "execution_count": 2,
   "metadata": {},
   "outputs": [
    {
     "name": "stdout",
     "output_type": "stream",
     "text": [
      "{'隊員1': '新主教練', '隊員2': '新主教練'}\n"
     ]
    }
   ],
   "source": [
    "# 創建一個空的綁定表\n",
    "team_coach_mapping = {}\n",
    "\n",
    "# 添加隊員和主教練的綁定\n",
    "team_coach_mapping[\"隊員1\"] = \"原主教練\"\n",
    "team_coach_mapping[\"隊員2\"] = \"原主教練\"\n",
    "\n",
    "# 當主教練換了時，更新綁定\n",
    "new_coach = \"新主教練\"\n",
    "for player in team_coach_mapping:\n",
    "    team_coach_mapping[player] = new_coach\n",
    "\n",
    "# 現在，team_coach_mapping 中的每個隊員都與新主教練綁定\n",
    "print(team_coach_mapping)"
   ]
  },
  {
   "cell_type": "code",
   "execution_count": 1,
   "metadata": {},
   "outputs": [],
   "source": [
    "def get_actual_cost(平面, 天花板, 一桶油, 一桶油美金):\n",
    "    總面積 = 平面 + 天花板\n",
    "    總面積除一統油 = 總面積 / 一桶油\n",
    "    gallons_to_buy = math.ceil(總面積除一統油)\n",
    "    cost = 一桶油美金 * gallons_to_buy\n",
    "    return cost"
   ]
  }
 ],
 "metadata": {
  "kernelspec": {
   "display_name": "Python 3",
   "language": "python",
   "name": "python3"
  },
  "language_info": {
   "codemirror_mode": {
    "name": "ipython",
    "version": 3
   },
   "file_extension": ".py",
   "mimetype": "text/x-python",
   "name": "python",
   "nbconvert_exporter": "python",
   "pygments_lexer": "ipython3",
   "version": "3.11.7"
  }
 },
 "nbformat": 4,
 "nbformat_minor": 2
}
